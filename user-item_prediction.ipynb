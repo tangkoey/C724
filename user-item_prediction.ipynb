{
 "cells": [
  {
   "cell_type": "code",
   "execution_count": 1,
   "id": "47c6c04a-8ff0-4389-bff1-a0aa35eaf6a7",
   "metadata": {},
   "outputs": [],
   "source": [
    "import numpy as np"
   ]
  },
  {
   "cell_type": "code",
   "execution_count": 47,
   "id": "badcb908-c9cf-4b8f-b082-59c83eab6b02",
   "metadata": {},
   "outputs": [],
   "source": [
    "R = np.array([[5,3,4,4,np.nan], \n",
    "             [3,1,2,3,3],\n",
    "             [4,3,4,3,5],\n",
    "             [3,3,1,5,4],\n",
    "             [1,5,5,2,1]])"
   ]
  },
  {
   "cell_type": "markdown",
   "id": "9b22647b-d408-4eda-bc2c-03b0c8d66eb2",
   "metadata": {},
   "source": [
    "User-based prediction: \n",
    "\n",
    "$$ r_{ui}^* \\triangleq \\overline{r_u} + \\frac{\\sum_{v \\in \\textrm{p_users}} Corr(u,v)(r_{vi} - \\overline{r_v})}{\\left|\\left| \\textrm{p_users} \\right|\\right|} $$\n",
    "\n",
    "Parameters:\n",
    "<ol>\n",
    "    <li> $u$: user of prediction.</li>\n",
    "    <li> $i$: item whose rating from user $u$ is unknown.</li>\n",
    "    <li> $\\mathbf{R}$: matrix of ratings. \n",
    "        <ul>\n",
    "        <li> <strong> Not the rate matrix in markov jump processes</strong>. </li> \n",
    "        <li> <strong> $R_{ij}$ = rating from user $i$ on item $j$ </strong> </li>\n",
    "        </ul>\n",
    "    </li>\n",
    "    <li> $t$: threshold of user correlation to be involved in predictions.</li>\n",
    "    <li> <code>method</code>: Usual pearson correlation (<code>p</code>, default) or cosine similarity. </li>\n",
    "    <li> <code>corr</code>: Return correlation matrix if <code>True</code>. (Default <code>False</code>). </li>\n",
    "</ol>"
   ]
  },
  {
   "cell_type": "code",
   "execution_count": 85,
   "id": "ed1bccd7-778d-4fac-969c-897e4b69594c",
   "metadata": {},
   "outputs": [],
   "source": [
    "def predict_u(u, i, R, t = 0, method = 'p', corr = False):\n",
    "    assert not R[u, i] < np.inf, \"User {} has already rated item {} with rating {}!\".format(u, i, R[u,i])\n",
    "    if method == 'p':\n",
    "        import pandas as pd\n",
    "        # calculate (Nan-tolerant) correlation matrix\n",
    "        SS = pd.DataFrame(R.T).corr().values\n",
    "    elif method == 'c':\n",
    "        from numpy.linalg import norm\n",
    "        SS = np.zeros((len(R), len(R)))\n",
    "        for i in range(len(R)):\n",
    "            for j in np.arange(i+1, len(R), 1):\n",
    "                both = (R[i] < np.inf) * (R[j] < np.inf)\n",
    "                u_, v_ = R[i,both], R[j,both]\n",
    "                SS[i,j] = (u_ @ v_)/(norm(u_) * norm(v_))\n",
    "        SS = SS + SS.T + np.eye(len(R))\n",
    "    # check which users have significant correlation with user u\n",
    "    p = (SS[u, :] > t) * (SS[u, :] != 1)\n",
    "    p_users = np.where(p)[0]\n",
    "    # extract correlation between user u and such users\n",
    "    S = SS[u, p_users]\n",
    "    m = np.nanmean(R, axis = 1)\n",
    "    np.sum(S*(R[p_users,i] - m[p_users]))\n",
    "    pred = m[u] + np.sum(S*(R[p_users,i] - m[p_users]))/np.sum(S)\n",
    "    if corr == False:\n",
    "        return pred\n",
    "    else:\n",
    "        return pred, SS"
   ]
  },
  {
   "cell_type": "code",
   "execution_count": 86,
   "id": "9ffad13e-0679-4a8e-9ab8-25916af0f49b",
   "metadata": {},
   "outputs": [
    {
     "data": {
      "text/plain": [
       "4.902580043392168"
      ]
     },
     "execution_count": 86,
     "metadata": {},
     "output_type": "execute_result"
    }
   ],
   "source": [
    "predict_u(0, 4, R, t=0.9, method='c')"
   ]
  },
  {
   "cell_type": "code",
   "execution_count": 105,
   "id": "510ffd5b-cc99-4f0c-af41-1fa9de66b2d5",
   "metadata": {},
   "outputs": [],
   "source": [
    "def predict_i(u, i, R, t = 0, method = 'p', corr = False):\n",
    "    assert not R[u, i] < np.inf, \"User {} has already rated item {} with rating {}!\".format(u, i, R[u,i])\n",
    "    if method == 'p':\n",
    "        import pandas as pd\n",
    "        # calculate (Nan-tolerant) correlation matrix\n",
    "        SS = pd.DataFrame(R).corr().values\n",
    "    elif method == 'c':\n",
    "        from numpy.linalg import norm\n",
    "        SS = np.zeros((len(R.T), len(R.T)))\n",
    "        for k in range(len(R.T)):\n",
    "            for j in np.arange(k+1, len(R.T), 1):\n",
    "                both = (R.T[k] < np.inf) * (R.T[j] < np.inf)\n",
    "                u_, v_ = R.T[k,both], R.T[j,both]\n",
    "                SS[k,j] = (u_ @ v_)/(norm(u_) * norm(v_))\n",
    "        SS = SS + SS.T + np.eye(len(R.T))\n",
    "    # check which users have significant correlation with item i\n",
    "    p = (SS[i, :] > t) * (SS[i, :] != 1)\n",
    "    p_items = np.where(p)[0]\n",
    "    # extract correlation between item i and such items\n",
    "    S = SS[i, p_items]\n",
    "    m = np.nanmean(R, axis = 0)\n",
    "    np.sum(S*(R[i, p_items] - m[p_items]))\n",
    "    pred = m[i] + np.sum(S*(R[u,p_items] - m[p_items]))/np.sum(S)\n",
    "    if corr == False:\n",
    "        return pred\n",
    "    else:\n",
    "        return pred, SS"
   ]
  },
  {
   "cell_type": "code",
   "execution_count": 106,
   "id": "afbe2d8a-9409-4cf4-aaaf-fb5e936ea011",
   "metadata": {},
   "outputs": [
    {
     "data": {
      "text/plain": [
       "4.466923907166172"
      ]
     },
     "execution_count": 106,
     "metadata": {},
     "output_type": "execute_result"
    }
   ],
   "source": [
    "predict_i(0, 4, R, t=0.9, method='c')"
   ]
  },
  {
   "cell_type": "code",
   "execution_count": null,
   "id": "346dd67c-a1f0-4929-b7d3-454e8c90bc52",
   "metadata": {},
   "outputs": [],
   "source": []
  }
 ],
 "metadata": {
  "kernelspec": {
   "display_name": "Python 3",
   "language": "python",
   "name": "python3"
  },
  "language_info": {
   "codemirror_mode": {
    "name": "ipython",
    "version": 3
   },
   "file_extension": ".py",
   "mimetype": "text/x-python",
   "name": "python",
   "nbconvert_exporter": "python",
   "pygments_lexer": "ipython3",
   "version": "3.8.8"
  }
 },
 "nbformat": 4,
 "nbformat_minor": 5
}
