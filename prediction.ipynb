{
 "cells": [
  {
   "cell_type": "code",
   "execution_count": 4,
   "id": "51e6ade4-bb74-4624-8ac5-2cbe549afae2",
   "metadata": {},
   "outputs": [],
   "source": [
    "import numpy as np\n",
    "import pandas as pd"
   ]
  },
  {
   "cell_type": "markdown",
   "id": "e8e21e3d-311e-44b2-97e4-680632797b65",
   "metadata": {},
   "source": [
    "Rate matrix (with <code>Nan</code> entries)."
   ]
  },
  {
   "cell_type": "code",
   "execution_count": 5,
   "id": "ea806ad6-a63e-47af-a240-ea2a289e5129",
   "metadata": {},
   "outputs": [],
   "source": [
    "R = np.array([[5,3,4,4,np.nan], \n",
    "             [3,1,2,3,3],\n",
    "             [4,3,4,3,5],\n",
    "             [3,3,1,5,4],\n",
    "             [1,5,5,2,1]])"
   ]
  },
  {
   "cell_type": "markdown",
   "id": "16408596-a94e-4d4f-ba25-49b291005a6d",
   "metadata": {},
   "source": [
    "Designate prediction: predict the rating of user $u$ to item $i$."
   ]
  },
  {
   "cell_type": "code",
   "execution_count": 159,
   "id": "fd3011cc-0dd7-4252-a01e-b303f190aceb",
   "metadata": {},
   "outputs": [],
   "source": [
    "u = 0\n",
    "i = 4"
   ]
  },
  {
   "cell_type": "markdown",
   "id": "16010897-0393-4c93-a30b-280d261a2688",
   "metadata": {},
   "source": [
    "Calculate similarity between user $k$ and other users. <code>sim</code> $(R, k)= (Corr(u_k, u_i))_{i=0, i \\neq k}^{\\# \\textrm{users}-1}$."
   ]
  },
  {
   "cell_type": "code",
   "execution_count": 132,
   "id": "22a79085-e4a2-4f69-824a-c4a2fa6297a1",
   "metadata": {},
   "outputs": [],
   "source": [
    "def corr(R, u = -1):\n",
    "    import pandas as pd\n",
    "    RD = pd.DataFrame(R.T)\n",
    "    if u >= 0:\n",
    "        S = RD.corr().values[:, u]\n",
    "    else:\n",
    "        S = RD.corr().values\n",
    "    return S"
   ]
  },
  {
   "cell_type": "code",
   "execution_count": 138,
   "id": "fab1eb23-39ed-49b7-8017-94222c7792b4",
   "metadata": {},
   "outputs": [
    {
     "data": {
      "text/plain": [
       "array([ 1.        ,  0.85280287,  0.70710678,  0.        , -0.79211803])"
      ]
     },
     "execution_count": 138,
     "metadata": {},
     "output_type": "execute_result"
    }
   ],
   "source": [
    "sim = corr(R, 0)\n",
    "sim"
   ]
  },
  {
   "cell_type": "markdown",
   "id": "9791138d-f945-44b1-8011-44a96e5e9fb9",
   "metadata": {},
   "source": [
    "Consider users with positive correlation only (including the user under concern)."
   ]
  },
  {
   "cell_type": "code",
   "execution_count": 144,
   "id": "9de8f9bb-0bfe-4849-9b2e-c8d2d8049fba",
   "metadata": {},
   "outputs": [
    {
     "data": {
      "text/plain": [
       "array([1, 2], dtype=int64)"
      ]
     },
     "execution_count": 144,
     "metadata": {},
     "output_type": "execute_result"
    }
   ],
   "source": [
    "index = (sim > 0) * (sim != 1)\n",
    "p_users = np.where(index)[u]\n",
    "p_users"
   ]
  },
  {
   "cell_type": "markdown",
   "id": "172d9ae8-a635-4630-a68e-3761ed48769e",
   "metadata": {},
   "source": [
    "Extract user similarity for prediction."
   ]
  },
  {
   "cell_type": "code",
   "execution_count": 145,
   "id": "985f1679-4b17-48e4-bdaa-b5b4264ca8d5",
   "metadata": {},
   "outputs": [
    {
     "data": {
      "text/plain": [
       "array([0.85280287, 0.70710678])"
      ]
     },
     "execution_count": 145,
     "metadata": {},
     "output_type": "execute_result"
    }
   ],
   "source": [
    "simp = sim[p_users]\n",
    "simp"
   ]
  },
  {
   "cell_type": "markdown",
   "id": "88d8af49-9fc7-4c7a-a48d-38c9e1d1840a",
   "metadata": {},
   "source": [
    "Calculate rate prediction for user $u_0$ to item $i$ by\n",
    "\n",
    "$$ r_{ui}^* \\triangleq \\overline{r_u} + \\frac{\\sum_{v \\in \\textrm{p_users}} Corr(u,v)(r_{vi} - \\overline{r_v})}{\\left|\\left| \\textrm{p_users} \\right|\\right|} $$"
   ]
  },
  {
   "cell_type": "code",
   "execution_count": 149,
   "id": "a4a6fb79-1ce2-42a5-af15-a8ca68daff18",
   "metadata": {},
   "outputs": [],
   "source": [
    "m = np.nanmean(R, axis = 1)\n",
    "pred = m[u] + np.sum([simp[i]*(R[p_users[i],4] - m[p_users[i]]) for i in range(len(p_users))])/np.sum(simp)\n"
   ]
  },
  {
   "cell_type": "code",
   "execution_count": 150,
   "id": "0d9cd30e-da27-44bc-8f2b-5a5f028efaae",
   "metadata": {},
   "outputs": [
    {
     "data": {
      "text/plain": [
       "4.871979899370592"
      ]
     },
     "execution_count": 150,
     "metadata": {},
     "output_type": "execute_result"
    }
   ],
   "source": [
    "pred"
   ]
  },
  {
   "cell_type": "markdown",
   "id": "c80d7e86-d13d-407f-a6d6-246eee8a688f",
   "metadata": {},
   "source": [
    "# Complete Pipeline"
   ]
  },
  {
   "cell_type": "code",
   "execution_count": 1,
   "id": "6388b6ff-24d2-490e-8158-c5c3d62956a6",
   "metadata": {},
   "outputs": [],
   "source": [
    "def predict(u, i, R, t = 0, corr = False):\n",
    "    assert not R[u, i] < np.inf, \"User {} has already rated item {} with rating {}!\".format(u, i, R[u,i])\n",
    "    import pandas as pd\n",
    "    # calculate (Nan-tolerant) correlation matrix\n",
    "    SS = pd.DataFrame(R.T).corr().values\n",
    "    # check which users have positive correlation with user u\n",
    "    p = (SS[u, :] > t) * (SS[u, :] != 1)\n",
    "    p_users = np.where(p)[u]\n",
    "    # extract correlation between user u and all users\n",
    "    S = SS[u, p_users]\n",
    "    m = np.nanmean(R, axis = 1)\n",
    "    np.sum(S*(R[p_users,i] - m[p_users]))\n",
    "    pred = m[u] + np.sum(S*(R[p_users,i] - m[p_users]))/np.sum(S)\n",
    "    if corr == False:\n",
    "        return pred\n",
    "    else:\n",
    "        return pred, SS"
   ]
  },
  {
   "cell_type": "code",
   "execution_count": 6,
   "id": "49c336d8-9729-4b76-8c76-5dd3f55e2a82",
   "metadata": {},
   "outputs": [
    {
     "data": {
      "text/plain": [
       "4.871979899370592"
      ]
     },
     "execution_count": 6,
     "metadata": {},
     "output_type": "execute_result"
    }
   ],
   "source": [
    "predict(0, 4, R)"
   ]
  },
  {
   "cell_type": "code",
   "execution_count": null,
   "id": "f6b5a450-c0b7-417b-84bd-63552a7464e2",
   "metadata": {},
   "outputs": [],
   "source": []
  }
 ],
 "metadata": {
  "kernelspec": {
   "display_name": "Python 3",
   "language": "python",
   "name": "python3"
  },
  "language_info": {
   "codemirror_mode": {
    "name": "ipython",
    "version": 3
   },
   "file_extension": ".py",
   "mimetype": "text/x-python",
   "name": "python",
   "nbconvert_exporter": "python",
   "pygments_lexer": "ipython3",
   "version": "3.8.8"
  }
 },
 "nbformat": 4,
 "nbformat_minor": 5
}
