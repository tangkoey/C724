{
 "cells": [
  {
   "cell_type": "code",
   "execution_count": 1,
   "id": "47c6c04a-8ff0-4389-bff1-a0aa35eaf6a7",
   "metadata": {},
   "outputs": [],
   "source": [
    "import numpy as np"
   ]
  },
  {
   "cell_type": "code",
   "execution_count": null,
   "id": "badcb908-c9cf-4b8f-b082-59c83eab6b02",
   "metadata": {},
   "outputs": [],
   "source": [
    "R = np.array([[5,3,4,4,np.nan], \n",
    "             [3,1,2,3,3],\n",
    "             [4,3,4,3,5],\n",
    "             [3,3,1,5,4],\n",
    "             [1,5,5,2,1]])"
   ]
  },
  {
   "cell_type": "code",
   "execution_count": 45,
   "id": "ed1bccd7-778d-4fac-969c-897e4b69594c",
   "metadata": {},
   "outputs": [],
   "source": [
    "def predict_u(u, i, R, t = 0, method = 'p', corr = False):\n",
    "    assert not R[u, i] < np.inf, \"User {} has already rated item {} with rating {}!\".format(u, i, R[u,i])\n",
    "    if method == 'p':\n",
    "        import pandas as pd\n",
    "        # calculate (Nan-tolerant) correlation matrix\n",
    "        SS = pd.DataFrame(R.T).corr().values\n",
    "    elif method == 'c':\n",
    "        from numpy.linalg import norm\n",
    "        SS = np.zeros((len(R), len(R)))\n",
    "        for i in range(len(R)):\n",
    "            for j in np.arange(i+1, len(R), 1):\n",
    "                both = (R[i] < np.inf) * (R[j] < np.inf)\n",
    "                u_, v_ = R[i,both], R[j,both]\n",
    "                SS[i,j] = (u_ @ v_)/(norm(u_) * norm(v_))\n",
    "        SS = SS + SS.T + np.eye(len(R))\n",
    "    # check which users have positive correlation with user u\n",
    "    p = (SS[u, :] > t) * (SS[u, :] != 1)\n",
    "    p_users = np.where(p)[u]\n",
    "    # extract correlation between user u and all users\n",
    "    S = SS[u, p_users]\n",
    "    m = np.nanmean(R, axis = 1)\n",
    "    np.sum(S*(R[p_users,i] - m[p_users]))\n",
    "    pred = m[u] + np.sum(S*(R[p_users,i] - m[p_users]))/np.sum(S)\n",
    "    if corr == False:\n",
    "        return pred\n",
    "    else:\n",
    "        return pred, SS"
   ]
  },
  {
   "cell_type": "code",
   "execution_count": 46,
   "id": "9ffad13e-0679-4a8e-9ab8-25916af0f49b",
   "metadata": {},
   "outputs": [
    {
     "data": {
      "text/plain": [
       "4.902580043392168"
      ]
     },
     "execution_count": 46,
     "metadata": {},
     "output_type": "execute_result"
    }
   ],
   "source": [
    "predict_u(0, 4, R, t=0.9, method='c')"
   ]
  },
  {
   "cell_type": "code",
   "execution_count": 19,
   "id": "510ffd5b-cc99-4f0c-af41-1fa9de66b2d5",
   "metadata": {},
   "outputs": [],
   "source": []
  },
  {
   "cell_type": "code",
   "execution_count": null,
   "id": "afbe2d8a-9409-4cf4-aaaf-fb5e936ea011",
   "metadata": {},
   "outputs": [],
   "source": []
  }
 ],
 "metadata": {
  "kernelspec": {
   "display_name": "Python 3",
   "language": "python",
   "name": "python3"
  },
  "language_info": {
   "codemirror_mode": {
    "name": "ipython",
    "version": 3
   },
   "file_extension": ".py",
   "mimetype": "text/x-python",
   "name": "python",
   "nbconvert_exporter": "python",
   "pygments_lexer": "ipython3",
   "version": "3.8.8"
  }
 },
 "nbformat": 4,
 "nbformat_minor": 5
}
